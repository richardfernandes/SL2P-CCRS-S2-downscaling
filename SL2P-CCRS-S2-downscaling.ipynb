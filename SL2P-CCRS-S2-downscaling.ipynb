{
 "cells": [
  {
   "cell_type": "markdown",
   "id": "f7c82f2c-b37b-42cd-9a92-c3fc6330d9ce",
   "metadata": {},
   "source": [
    "# SL2P-CCRS-S2-downscaling\n",
    "A python verison of the Simplified Level 2 Prototype Processor (SL2P) for mapping vegetation variables (leaf area index (LAI), fraction of canopy cover (fCOVER), fraction of absorbed photosynthetically active radiation (fAPAR) and surface albedo) at 10 or 20 m spatial resolution from Sentinel-2 MSI L2A images.  \n",
    "\n",
    "Cite as Djamai N. et al., 2024, \"SL2P-PYTHON\", Canada Centre for Remote Sensing, DOI: 10.5281/zenodo.10654520,https://github.com/djamainajib/SL2P_PYTHON.\n",
    "\n",
    "SL2P-PYTHON provides identical results as the CCRS implementation of SL2P within the [LEAF-Toolbox](https://code.earthengine.google.com/8ee611fad1609740099eabbfe571189c) that follows the algorithm theoretical basis document of Weiss and Baret (2016). \n",
    "\n",
    "SL2P-PYTHON currently supports SL2PV0 algorithm: defined by Weiss and Baret (2016) with an update in Weiss and Baret (2020).\n",
    "\n",
    "* [Fernandes R., Brown L., Canisius F., Dash J., He L.M., Hong G., Huang L., Le N.Q., MacDougall C., Meier C., Darko P.O., Shah H., Spafford L., Sun L.X., 2023](https://www.sciencedirect.com/science/article/pii/S0034425723001517). Validation of Simplified Level 2 Prototype Processor Sentinel-2 fraction of canopy cover, fraction of absorbed photosynthetically active radiation and leaf area index products over north American forests. Remote Sens. Environ. 293, 113600. \n",
    "\n",
    "* [Weiss M. and Baret F.,2016](https://step.esa.int/docs/extra/ATBD_S2ToolBox_L2B_V1.1.pdf). S2ToolBox Level 2 products: LAI, FAPAR, FCOVER, 1.1. ed. Institut National de la Recherche Agronomique, Avignon, France.\n",
    "\n",
    "* [Weiss M. and Baret F.,2020](https://step.esa.int/docs/extra/ATBD_S2ToolBox_L2B_V2.0.pdf). S2ToolBox Level 2 Products: LAI, FAPAR, FCOVER, 2.0. ed. Institut National de la Recherche Agronomique, Avignon, France.\n",
    "\n",
    "#### Dependencies:\n",
    "- rasterio 1.3.9\n",
    "- matplotlib 3.7.2\n",
    "- datetime 5.4\n",
    "- skimage 0.20.0\n",
    "- scipy 1.11.1\n",
    "- pickle 0.0.12\n",
    "- tqdm 4.65.0"
   ]
  },
  {
   "cell_type": "markdown",
   "id": "973b6bf7-eb46-4b62-8687-157590821b39",
   "metadata": {
    "tags": []
   },
   "source": [
    "### Initiation"
   ]
  },
  {
   "cell_type": "code",
   "execution_count": 1,
   "id": "69134e44-a5d8-465c-bdff-919907ed1da7",
   "metadata": {},
   "outputs": [],
   "source": [
    "from tools import SL2P\n",
    "from tools import read_sentinel2_safe_image\n",
    "from tools import dictionariesSL2P \n",
    "from matplotlib import pyplot as plt\n",
    "from matplotlib.colors import ListedColormap\n",
    "import os,numpy\n",
    "import rasterio\n",
    "import zipfile\n",
    "import shutil"
   ]
  },
  {
   "cell_type": "code",
   "execution_count": 2,
   "id": "88b728d1-70e1-437d-96d6-75a9d7b3034e",
   "metadata": {
    "tags": []
   },
   "outputs": [],
   "source": [
    "from tools import SL2PBF \n",
    "from tools import SL2PNF \n",
    "from tools import SL2POTHER "
   ]
  },
  {
   "cell_type": "code",
   "execution_count": 3,
   "id": "636e3f15-5ed4-4ae6-8e60-7d0f2532bb1f",
   "metadata": {
    "tags": []
   },
   "outputs": [],
   "source": [
    "# Specify output variable, input satellite imagery and location of downscaled images in SAFE format\n",
    "# The downscaled images are produced using\n",
    "variableName='LAI'\n",
    "imageCollectionName=\"S2_SR\"\n",
    "path = 'F:/novascotia/DownscaledV0/'\n"
   ]
  },
  {
   "cell_type": "code",
   "execution_count": 4,
   "id": "3e5924f5-ec71-442c-9b37-7fe88570e2ac",
   "metadata": {
    "tags": []
   },
   "outputs": [],
   "source": [
    "#### Input data Control ***-\n",
    "if variableName not in dictionariesSL2P.make_net_options().keys():\n",
    "    raise ValueError(('Supported vegetation valiables: %s'%(dictionariesSL2P.make_net_options().keys())))\n",
    "if imageCollectionName not in dictionariesSL2P.make_net_options()[variableName].keys():\n",
    "    raise ValueError(('Supported EO datasets: %s'%(dictionariesSL2P.make_net_options()[variableName].keys())))  \n",
    "    \n",
    "### Determine data resolution (we force to 10m)\n",
    "RES=dictionariesSL2P.define_input_resolution()[imageCollectionName]\n",
    "RES=10"
   ]
  },
  {
   "cell_type": "code",
   "execution_count": null,
   "id": "18b7335c-59e9-401d-ac2a-ab2c10bb5591",
   "metadata": {},
   "outputs": [],
   "source": [
    "\n",
    "\n",
    "# Process all input images using SL2P-CCRS with all three networks \n",
    "# SL2PNF - needleaf forests, SL2PBF - broadleaf forests, SL2POTHER - all the rest\n",
    "# You need to combine these after using 10m land cover maps\n",
    "# Make sure to mask non clear sky pixels yourself based on the input image\n",
    "inputFileList = os.listdir(path)\n",
    "inputFileList = [k for k in inputFileList if '.SAFE' in k]\n",
    "for fileName in inputFileList :\n",
    "    print(fileName)\n",
    "\n",
    "    #read image in\n",
    "    s2=read_sentinel2_safe_image.read_s2(path+fileName,res=RES)        \n",
    "\n",
    "    #prepare image for sl2p\n",
    "    sl2p_inp=SL2P.prepare_sl2p_inp(s2,variableName,imageCollectionName)\n",
    "\n",
    "    #run algorithm\n",
    "    algorithm = SL2PBF\n",
    "    varmap=SL2P.SL2P(algorithm,sl2p_inp,variableName,imageCollectionName)\n",
    "\n",
    "    #export product\n",
    "    profile=s2['profile']\n",
    "    profile.update({'count':5,'dtype':'uint8','driver':'GTiff'}) \n",
    "    outputFileName = path+fileName.replace('.SAFE','_%s_%s.tif'%(variableName,algorithm.__name__.split('.')[-1]))\n",
    "    with rasterio.open(outputFileName,'w',**profile) as dst:\n",
    "        dst.write(varmap[variableName]*30,1)\n",
    "        dst.write(varmap[variableName+'_uncertainty']*30,2)\n",
    "        dst.write(varmap['sl2p_inputFlag'],3)\n",
    "        dst.write(varmap['sl2p_outputFlag'],4)\n",
    "        dst.write(s2['SCL'],5)\n",
    "        \n",
    "    #run algorithm\n",
    "    algorithm = SL2PNF\n",
    "    varmap=SL2P.SL2P(algorithm,sl2p_inp,variableName,imageCollectionName)\n",
    "\n",
    "    #export product\n",
    "    profile=s2['profile']\n",
    "    profile.update({'count':5,'dtype':'uint8','driver':'GTiff'}) \n",
    "    outputFileName = path+fileName.replace('.SAFE','_%s_%s.tif'%(variableName,algorithm.__name__.split('.')[-1]))\n",
    "    with rasterio.open(outputFileName,'w',**profile) as dst:\n",
    "        dst.write(varmap[variableName]*30,1)\n",
    "        dst.write(varmap[variableName+'_uncertainty']*30,2)\n",
    "        dst.write(varmap['sl2p_inputFlag'],3)\n",
    "        dst.write(varmap['sl2p_outputFlag'],4)\n",
    "        dst.write(s2['SCL'],5)\n",
    "        \n",
    "    #run algorithm\n",
    "    algorithm = SL2POTHER\n",
    "    varmap=SL2P.SL2P(algorithm,sl2p_inp,variableName,imageCollectionName)\n",
    "\n",
    "    #export product\n",
    "    profile=s2['profile']\n",
    "    profile.update({'count':5,'dtype':'uint8','driver':'GTiff'}) \n",
    "    outputFileName = path+fileName.replace('.SAFE','_%s_%s.tif'%(variableName,algorithm.__name__.split('.')[-1]))\n",
    "    with rasterio.open(outputFileName,'w',**profile) as dst:\n",
    "        dst.write(varmap[variableName]*30,1)\n",
    "        dst.write(varmap[variableName+'_uncertainty']*30,2)\n",
    "        dst.write(varmap['sl2p_inputFlag'],3)\n",
    "        dst.write(varmap['sl2p_outputFlag'],4)\n",
    "        dst.write(s2['SCL'],5)"
   ]
  }
 ],
 "metadata": {
  "kernelspec": {
   "display_name": "Python 3 (ipykernel)",
   "language": "python",
   "name": "python3"
  },
  "language_info": {
   "codemirror_mode": {
    "name": "ipython",
    "version": 3
   },
   "file_extension": ".py",
   "mimetype": "text/x-python",
   "name": "python",
   "nbconvert_exporter": "python",
   "pygments_lexer": "ipython3",
   "version": "3.9.16"
  }
 },
 "nbformat": 4,
 "nbformat_minor": 5
}
